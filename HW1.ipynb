{
  "nbformat": 4,
  "nbformat_minor": 0,
  "metadata": {
    "colab": {
      "name": "HW1.ipynb",
      "provenance": [],
      "collapsed_sections": [],
      "authorship_tag": "ABX9TyMfqRIL/sa+Cwd7SjONQQbh",
      "include_colab_link": true
    },
    "kernelspec": {
      "name": "python3",
      "display_name": "Python 3"
    },
    "language_info": {
      "name": "python"
    },
    "accelerator": "GPU"
  },
  "cells": [
    {
      "cell_type": "markdown",
      "metadata": {
        "id": "view-in-github",
        "colab_type": "text"
      },
      "source": [
        "<a href=\"https://colab.research.google.com/github/slifer4195/csce-636/blob/main/HW1.ipynb\" target=\"_parent\"><img src=\"https://colab.research.google.com/assets/colab-badge.svg\" alt=\"Open In Colab\"/></a>"
      ]
    },
    {
      "cell_type": "code",
      "execution_count": null,
      "metadata": {
        "id": "-ede3-Zv_RMT"
      },
      "outputs": [],
      "source": [
        "#loading dataset\n",
        "\n",
        "from keras.datasets import mnist\n",
        "(train_images,train_labels) , (test_images, test_labels) = mnist.load_data()"
      ]
    },
    {
      "cell_type": "code",
      "source": [
        "#building neural network\n",
        "\n",
        "from keras import models\n",
        "from keras import layers\n",
        "\n",
        "network = models.Sequential()\n",
        "network.add(layers.Dense(512, activation='relu', input_shape=(28*28,)))\n",
        "network.add(layers.Dense(10,activation='softmax'))\n"
      ],
      "metadata": {
        "id": "S3WQzs6zKbwN"
      },
      "execution_count": null,
      "outputs": []
    },
    {
      "cell_type": "code",
      "source": [
        "#compile pick optimzer, loss function and target metrics\n",
        "\n",
        "network.compile(optimizer = \"rmsprop\", loss=\"categorical_crossentropy\", metrics = ['accuracy'])"
      ],
      "metadata": {
        "id": "2VvekFRuLd2o"
      },
      "execution_count": null,
      "outputs": []
    },
    {
      "cell_type": "code",
      "source": [
        "#preparing dataset and correcting data format\n",
        "\n",
        "train_images = train_images.reshape((60000,28 * 28)) #convert to 3d to 2d [60000, 28,28]->[60000,784]\n",
        "train_images = train_images.astype('float32') / 255 #normalization from [0,255] -> [0,1]\n",
        "\n",
        "test_images = test_images.reshape((10000,28 * 28)) #convert to 3d to 2d [60000, 28,28]->[60000,784]\n",
        "test_images = test_images.astype('float32') / 255 #normalization from [0,255] -> [0,1]\n"
      ],
      "metadata": {
        "id": "G5I7gIYfMvRx"
      },
      "execution_count": null,
      "outputs": []
    },
    {
      "cell_type": "code",
      "source": [
        "#reshape labels to one hot encoding 1 -> 010000000\n",
        "from tensorflow.keras.utils import to_categorical\n",
        "train_labels = to_categorical(train_labels)\n",
        "test_labels = to_categorical(test_labels)"
      ],
      "metadata": {
        "id": "jwocYJs-QNqb"
      },
      "execution_count": null,
      "outputs": []
    },
    {
      "cell_type": "code",
      "source": [
        "#train network\n",
        "\n",
        "network.fit(train_images, train_labels, epochs = 5, batch_size = 128)"
      ],
      "metadata": {
        "colab": {
          "base_uri": "https://localhost:8080/"
        },
        "id": "AvZ5e_k6SEIL",
        "outputId": "b7c35193-05b4-4f06-da08-0d1b4cad2529"
      },
      "execution_count": null,
      "outputs": [
        {
          "output_type": "stream",
          "name": "stdout",
          "text": [
            "Epoch 1/5\n",
            "469/469 [==============================] - 3s 5ms/step - loss: 0.2571 - accuracy: 0.9263\n",
            "Epoch 2/5\n",
            "469/469 [==============================] - 2s 5ms/step - loss: 0.1051 - accuracy: 0.9687\n",
            "Epoch 3/5\n",
            "469/469 [==============================] - 2s 5ms/step - loss: 0.0697 - accuracy: 0.9793\n",
            "Epoch 4/5\n",
            "469/469 [==============================] - 2s 5ms/step - loss: 0.0506 - accuracy: 0.9853\n",
            "Epoch 5/5\n",
            "469/469 [==============================] - 2s 5ms/step - loss: 0.0388 - accuracy: 0.9885\n"
          ]
        },
        {
          "output_type": "execute_result",
          "data": {
            "text/plain": [
              "<keras.callbacks.History at 0x7ff59e287390>"
            ]
          },
          "metadata": {},
          "execution_count": 31
        }
      ]
    },
    {
      "cell_type": "code",
      "source": [
        "#testing trained network\n",
        "test_loss,test_acc = network.evaluate(test_images, test_labels)\n",
        "print('test accuracy: ', test_acc)\n"
      ],
      "metadata": {
        "colab": {
          "base_uri": "https://localhost:8080/"
        },
        "id": "NgVjv0gsSh8Q",
        "outputId": "169e77ba-33d3-4e67-c001-ccfd88c4db0a"
      },
      "execution_count": null,
      "outputs": [
        {
          "output_type": "stream",
          "name": "stdout",
          "text": [
            "313/313 [==============================] - 1s 4ms/step - loss: 0.0661 - accuracy: 0.9802\n",
            "test accuracy:  0.9801999926567078\n"
          ]
        }
      ]
    },
    {
      "cell_type": "markdown",
      "source": [
        ""
      ],
      "metadata": {
        "id": "qrGMNWZhQLNo"
      }
    }
  ]
}