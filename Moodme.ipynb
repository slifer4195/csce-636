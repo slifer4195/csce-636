{
  "nbformat": 4,
  "nbformat_minor": 0,
  "metadata": {
    "colab": {
      "name": "Untitled0.ipynb",
      "provenance": [],
      "collapsed_sections": [],
      "authorship_tag": "ABX9TyNykIdkZYXxTK9gtZ5uOeR+",
      "include_colab_link": true
    },
    "kernelspec": {
      "name": "python3",
      "display_name": "Python 3"
    },
    "language_info": {
      "name": "python"
    },
    "accelerator": "GPU"
  },
  "cells": [
    {
      "cell_type": "markdown",
      "metadata": {
        "id": "view-in-github",
        "colab_type": "text"
      },
      "source": [
        "<a href=\"https://colab.research.google.com/github/slifer4195/csce-636/blob/main/Moodme.ipynb\" target=\"_parent\"><img src=\"https://colab.research.google.com/assets/colab-badge.svg\" alt=\"Open In Colab\"/></a>"
      ]
    },
    {
      "cell_type": "markdown",
      "source": [
        "Downloading dataset from kaggle"
      ],
      "metadata": {
        "id": "Q2_SJLfJOHga"
      }
    },
    {
      "cell_type": "code",
      "execution_count": 1,
      "metadata": {
        "id": "TmWWFzo4A0BL",
        "outputId": "2de39f75-b2ac-4015-b51a-b7b284aeca5d",
        "colab": {
          "base_uri": "https://localhost:8080/"
        }
      },
      "outputs": [
        {
          "output_type": "stream",
          "name": "stdout",
          "text": [
            "Requirement already satisfied: kaggle in /usr/local/lib/python3.7/dist-packages (1.5.12)\n",
            "Requirement already satisfied: six>=1.10 in /usr/local/lib/python3.7/dist-packages (from kaggle) (1.15.0)\n",
            "Requirement already satisfied: python-dateutil in /usr/local/lib/python3.7/dist-packages (from kaggle) (2.8.2)\n",
            "Requirement already satisfied: urllib3 in /usr/local/lib/python3.7/dist-packages (from kaggle) (1.24.3)\n",
            "Requirement already satisfied: tqdm in /usr/local/lib/python3.7/dist-packages (from kaggle) (4.62.3)\n",
            "Requirement already satisfied: certifi in /usr/local/lib/python3.7/dist-packages (from kaggle) (2021.10.8)\n",
            "Requirement already satisfied: python-slugify in /usr/local/lib/python3.7/dist-packages (from kaggle) (5.0.2)\n",
            "Requirement already satisfied: requests in /usr/local/lib/python3.7/dist-packages (from kaggle) (2.23.0)\n",
            "Requirement already satisfied: text-unidecode>=1.3 in /usr/local/lib/python3.7/dist-packages (from python-slugify->kaggle) (1.3)\n",
            "Requirement already satisfied: idna<3,>=2.5 in /usr/local/lib/python3.7/dist-packages (from requests->kaggle) (2.10)\n",
            "Requirement already satisfied: chardet<4,>=3.0.2 in /usr/local/lib/python3.7/dist-packages (from requests->kaggle) (3.0.4)\n"
          ]
        }
      ],
      "source": [
        "! pip install kaggle"
      ]
    },
    {
      "cell_type": "code",
      "source": [
        "! pip install pillow\n",
        "from PIL import Image"
      ],
      "metadata": {
        "colab": {
          "base_uri": "https://localhost:8080/"
        },
        "id": "Oyp7LxK_QUDS",
        "outputId": "7d53a3a0-a289-424b-8c72-07912c9bd36e"
      },
      "execution_count": 2,
      "outputs": [
        {
          "output_type": "stream",
          "name": "stdout",
          "text": [
            "Requirement already satisfied: pillow in /usr/local/lib/python3.7/dist-packages (7.1.2)\n"
          ]
        }
      ]
    },
    {
      "cell_type": "code",
      "source": [
        "! mkdir ~/.kaggle"
      ],
      "metadata": {
        "id": "9p-hej8iCacr",
        "outputId": "46548b2f-4897-4dd5-a26c-1c7c3a19155e",
        "colab": {
          "base_uri": "https://localhost:8080/"
        }
      },
      "execution_count": 4,
      "outputs": [
        {
          "output_type": "stream",
          "name": "stdout",
          "text": [
            "mkdir: cannot create directory ‘/root/.kaggle’: File exists\n"
          ]
        }
      ]
    },
    {
      "cell_type": "code",
      "source": [
        "! cp kaggle.json ~/.kaggle/"
      ],
      "metadata": {
        "id": "SL19O2LlCkzH",
        "outputId": "0cf1ad30-3b02-4122-f075-c9051f8952b3",
        "colab": {
          "base_uri": "https://localhost:8080/"
        }
      },
      "execution_count": 5,
      "outputs": [
        {
          "output_type": "stream",
          "name": "stdout",
          "text": [
            "cp: cannot stat 'kaggle.json': No such file or directory\n"
          ]
        }
      ]
    },
    {
      "cell_type": "code",
      "source": [
        "! chmod 600 ~/.kaggle/kaggle.json"
      ],
      "metadata": {
        "id": "Pt8ioDDZDoda",
        "outputId": "73b98d81-70c2-4ab9-ef64-26f0d33e4676",
        "colab": {
          "base_uri": "https://localhost:8080/"
        }
      },
      "execution_count": 6,
      "outputs": [
        {
          "output_type": "stream",
          "name": "stdout",
          "text": [
            "chmod: cannot access '/root/.kaggle/kaggle.json': No such file or directory\n"
          ]
        }
      ]
    },
    {
      "cell_type": "code",
      "source": [
        "! kaggle datasets download -d jonathanoheix/face-expression-recognition-dataset"
      ],
      "metadata": {
        "id": "v-8mgcU2D8Xd",
        "outputId": "794399ee-3be4-4f86-dc78-ba07bb0317da",
        "colab": {
          "base_uri": "https://localhost:8080/"
        }
      },
      "execution_count": 11,
      "outputs": [
        {
          "output_type": "stream",
          "name": "stdout",
          "text": [
            "Traceback (most recent call last):\n",
            "  File \"/usr/local/bin/kaggle\", line 5, in <module>\n",
            "    from kaggle.cli import main\n",
            "  File \"/usr/local/lib/python2.7/dist-packages/kaggle/__init__.py\", line 23, in <module>\n",
            "    api.authenticate()\n",
            "  File \"/usr/local/lib/python2.7/dist-packages/kaggle/api/kaggle_api_extended.py\", line 146, in authenticate\n",
            "    self.config_file, self.config_dir))\n",
            "IOError: Could not find kaggle.json. Make sure it's located in /root/.kaggle. Or use the environment method.\n"
          ]
        }
      ]
    },
    {
      "cell_type": "code",
      "source": [
        "! unzip face_data.zip"
      ],
      "metadata": {
        "id": "xo9MFEN5EOUk",
        "outputId": "e9306ed5-f2dd-45b2-913a-54e7770a666e",
        "colab": {
          "base_uri": "https://localhost:8080/"
        }
      },
      "execution_count": 8,
      "outputs": [
        {
          "output_type": "stream",
          "name": "stdout",
          "text": [
            "unzip:  cannot find or open face_data.zip, face_data.zip.zip or face_data.zip.ZIP.\n"
          ]
        }
      ]
    },
    {
      "cell_type": "markdown",
      "source": [
        "Import libraries"
      ],
      "metadata": {
        "id": "TyyIVVxAOBSw"
      }
    },
    {
      "cell_type": "code",
      "source": [
        "import matplotlib.pyplot as plt\n",
        "import numpy as np\n",
        "import pandas as pd\n",
        "import seaborn as sns\n",
        "import os\n",
        "\n",
        "from keras.preprocessing.image import load_img, img_to_array\n",
        "from keras.preprocessing.image import ImageDataGenerator\n",
        "from keras.layers import Dense, Input, Dropout,GlobalAveragePooling2D,Flatten,Conv2D,BatchNormalization,Activation, MaxPooling2D\n",
        "from keras.models import Model, Sequential\n",
        "\n",
        "from tensorflow.keras.optimizers import Adam,SGD , RMSprop # - Works"
      ],
      "metadata": {
        "id": "uS1FZuUhGOs3"
      },
      "execution_count": 12,
      "outputs": []
    },
    {
      "cell_type": "markdown",
      "source": [
        "Displaying datasets"
      ],
      "metadata": {
        "id": "mAYzoh_rODVq"
      }
    },
    {
      "cell_type": "code",
      "source": [
        "picture_size = 48\n",
        "folder_path = \"/content/images/\"\n",
        "\n",
        "expression = 'disgust/'\n",
        "plt.figure(figsize = (12,12))\n",
        "for i in range(1,10,1):\n",
        "  plt.subplot(3,3,i)\n",
        "  img = load_img(folder_path + \"train/\" + expression + os.listdir(folder_path + \"train/\" + expression)[i], target_size = (picture_size,picture_size))\n",
        "  plt.imshow(img)\n",
        "plt.show()"
      ],
      "metadata": {
        "colab": {
          "base_uri": "https://localhost:8080/",
          "height": 702
        },
        "id": "p4MpXa_PGYNe",
        "outputId": "1344b36a-be54-48eb-ea56-dc1f07a71631"
      },
      "execution_count": 13,
      "outputs": [
        {
          "output_type": "display_data",
          "data": {
            "image/png": "[encoded data removed]",
            "text/plain": [
              "<Figure size 864x864 with 9 Axes>"
            ]
          },
          "metadata": {
            "needs_background": "light"
          }
        }
      ]
    },
    {
      "cell_type": "markdown",
      "source": [
        "Setting training and test datasets"
      ],
      "metadata": {
        "id": "18To9D59SM6j"
      }
    },
    {
      "cell_type": "code",
      "source": [
        "batch_size = 128\n",
        "datagen_train = ImageDataGenerator()\n",
        "datagen_val = ImageDataGenerator()\n",
        "\n",
        "train_set = datagen_train.flow_from_directory(folder_path + \"train\", target_size = (picture_size,picture_size), color_mode = \"grayscale\"\n",
        "                                              ,batch_size = batch_size ,class_mode = \"categorical\", shuffle = True)\n",
        "\n",
        "test_set = datagen_train.flow_from_directory(folder_path + \"validation\", target_size = (picture_size,picture_size), color_mode = \"grayscale\"\n",
        "                                              ,batch_size = batch_size ,class_mode = \"categorical\", shuffle = True)\n"
      ],
      "metadata": {
        "colab": {
          "base_uri": "https://localhost:8080/"
        },
        "id": "a-ajWgGfSL_f",
        "outputId": "b11fdf49-4ac9-4fc1-ac9e-f4b2d26e76d4"
      },
      "execution_count": 14,
      "outputs": [
        {
          "output_type": "stream",
          "name": "stdout",
          "text": [
            "Found 28821 images belonging to 7 classes.\n",
            "Found 7066 images belonging to 7 classes.\n"
          ]
        }
      ]
    },
    {
      "cell_type": "markdown",
      "source": [
        "neural network"
      ],
      "metadata": {
        "id": "kJqZI3O1dkOn"
      }
    },
    {
      "cell_type": "code",
      "source": [
        "\n",
        "\n",
        "no_of_classes = 7\n",
        "\n",
        "model = Sequential()\n",
        "\n",
        "#1st CNN layer\n",
        "model.add(Conv2D(64,(3,3),padding = 'same',input_shape = (48,48,1)))\n",
        "model.add(BatchNormalization())\n",
        "model.add(Activation('relu'))\n",
        "model.add(MaxPooling2D(pool_size = (2,2)))\n",
        "model.add(Dropout(0.25))\n",
        "\n",
        "#2nd CNN layer\n",
        "model.add(Conv2D(128,(5,5),padding = 'same'))\n",
        "model.add(BatchNormalization())\n",
        "model.add(Activation('relu'))\n",
        "model.add(MaxPooling2D(pool_size = (2,2)))\n",
        "model.add(Dropout (0.25))\n",
        "\n",
        "#3rd CNN layer\n",
        "model.add(Conv2D(512,(3,3),padding = 'same'))\n",
        "model.add(BatchNormalization())\n",
        "model.add(Activation('relu'))\n",
        "model.add(MaxPooling2D(pool_size = (2,2)))\n",
        "model.add(Dropout (0.25))\n",
        "\n",
        "#4th CNN layer\n",
        "model.add(Conv2D(512,(3,3), padding='same'))\n",
        "model.add(BatchNormalization())\n",
        "model.add(Activation('relu'))\n",
        "model.add(MaxPooling2D(pool_size=(2, 2)))\n",
        "model.add(Dropout(0.25))\n",
        "\n",
        "model.add(Flatten())\n",
        "\n",
        "#Fully connected 1st layer\n",
        "model.add(Dense(256))\n",
        "model.add(BatchNormalization())\n",
        "model.add(Activation('relu'))\n",
        "model.add(Dropout(0.25))\n",
        "\n",
        "\n",
        "# Fully connected layer 2nd layer\n",
        "model.add(Dense(512))\n",
        "model.add(BatchNormalization())\n",
        "model.add(Activation('relu'))\n",
        "model.add(Dropout(0.25))\n",
        "\n",
        "model.add(Dense(no_of_classes, activation='softmax'))\n",
        "\n",
        "\n",
        "\n",
        "opt = Adam(lr = 0.0001)\n",
        "model.compile(optimizer=opt,loss='categorical_crossentropy', metrics=['accuracy'])\n",
        "model.summary()"
      ],
      "metadata": {
        "id": "bTnFSi6pcz6e",
        "outputId": "90a607a6-731f-4f3d-defd-371fec8210a0",
        "colab": {
          "base_uri": "https://localhost:8080/"
        }
      },
      "execution_count": 19,
      "outputs": [
        {
          "output_type": "stream",
          "name": "stdout",
          "text": [
            "Model: \"sequential_3\"\n",
            "_________________________________________________________________\n",
            " Layer (type)                Output Shape              Param #   \n",
            "=================================================================\n",
            " conv2d_12 (Conv2D)          (None, 48, 48, 64)        640       \n",
            "                                                                 \n",
            " batch_normalization_14 (Bat  (None, 48, 48, 64)       256       \n",
            " chNormalization)                                                \n",
            "                                                                 \n",
            " activation_16 (Activation)  (None, 48, 48, 64)        0         \n",
            "                                                                 \n",
            " max_pooling2d_15 (MaxPoolin  (None, 24, 24, 64)       0         \n",
            " g2D)                                                            \n",
            "                                                                 \n",
            " dropout_13 (Dropout)        (None, 24, 24, 64)        0         \n",
            "                                                                 \n",
            " conv2d_13 (Conv2D)          (None, 24, 24, 128)       204928    \n",
            "                                                                 \n",
            " batch_normalization_15 (Bat  (None, 24, 24, 128)      512       \n",
            " chNormalization)                                                \n",
            "                                                                 \n",
            " activation_17 (Activation)  (None, 24, 24, 128)       0         \n",
            "                                                                 \n",
            " max_pooling2d_16 (MaxPoolin  (None, 12, 12, 128)      0         \n",
            " g2D)                                                            \n",
            "                                                                 \n",
            " dropout_14 (Dropout)        (None, 12, 12, 128)       0         \n",
            "                                                                 \n",
            " conv2d_14 (Conv2D)          (None, 12, 12, 512)       590336    \n",
            "                                                                 \n",
            " batch_normalization_16 (Bat  (None, 12, 12, 512)      2048      \n",
            " chNormalization)                                                \n",
            "                                                                 \n",
            " activation_18 (Activation)  (None, 12, 12, 512)       0         \n",
            "                                                                 \n",
            " max_pooling2d_17 (MaxPoolin  (None, 6, 6, 512)        0         \n",
            " g2D)                                                            \n",
            "                                                                 \n",
            " dropout_15 (Dropout)        (None, 6, 6, 512)         0         \n",
            "                                                                 \n",
            " conv2d_15 (Conv2D)          (None, 6, 6, 512)         2359808   \n",
            "                                                                 \n",
            " batch_normalization_17 (Bat  (None, 6, 6, 512)        2048      \n",
            " chNormalization)                                                \n",
            "                                                                 \n",
            " activation_19 (Activation)  (None, 6, 6, 512)         0         \n",
            "                                                                 \n",
            " max_pooling2d_18 (MaxPoolin  (None, 3, 3, 512)        0         \n",
            " g2D)                                                            \n",
            "                                                                 \n",
            " dropout_16 (Dropout)        (None, 3, 3, 512)         0         \n",
            "                                                                 \n",
            " flatten_3 (Flatten)         (None, 4608)              0         \n",
            "                                                                 \n",
            " dense_6 (Dense)             (None, 256)               1179904   \n",
            "                                                                 \n",
            " batch_normalization_18 (Bat  (None, 256)              1024      \n",
            " chNormalization)                                                \n",
            "                                                                 \n",
            " activation_20 (Activation)  (None, 256)               0         \n",
            "                                                                 \n",
            " dropout_17 (Dropout)        (None, 256)               0         \n",
            "                                                                 \n",
            " dense_7 (Dense)             (None, 512)               131584    \n",
            "                                                                 \n",
            " batch_normalization_19 (Bat  (None, 512)              2048      \n",
            " chNormalization)                                                \n",
            "                                                                 \n",
            " activation_21 (Activation)  (None, 512)               0         \n",
            "                                                                 \n",
            " dropout_18 (Dropout)        (None, 512)               0         \n",
            "                                                                 \n",
            " dense_8 (Dense)             (None, 7)                 3591      \n",
            "                                                                 \n",
            "=================================================================\n",
            "Total params: 4,478,727\n",
            "Trainable params: 4,474,759\n",
            "Non-trainable params: 3,968\n",
            "_________________________________________________________________\n"
          ]
        },
        {
          "output_type": "stream",
          "name": "stderr",
          "text": [
            "/usr/local/lib/python3.7/dist-packages/keras/optimizer_v2/adam.py:105: UserWarning: The `lr` argument is deprecated, use `learning_rate` instead.\n",
            "  super(Adam, self).__init__(name, **kwargs)\n"
          ]
        }
      ]
    },
    {
      "cell_type": "code",
      "source": [
        "from keras.callbacks import ModelCheckpoint, EarlyStopping, ReduceLROnPlateau\n",
        "\n",
        "checkpoint = ModelCheckpoint(\"./model.h5\", monitor='val_acc', verbose=1, save_best_only=True, mode='max')\n",
        "\n",
        "early_stopping = EarlyStopping(monitor='val_loss',\n",
        "                          min_delta=0,\n",
        "                          patience=3,\n",
        "                          verbose=1,\n",
        "                          restore_best_weights=True\n",
        "                          )\n",
        "\n",
        "reduce_learningrate = ReduceLROnPlateau(monitor='val_loss',\n",
        "                              factor=0.2,\n",
        "                              patience=3,\n",
        "                              verbose=1,\n",
        "                              min_delta=0.0001)\n",
        "\n",
        "callbacks_list = [early_stopping,checkpoint,reduce_learningrate]\n",
        "\n",
        "epochs = 48\n",
        "\n",
        "model.compile(loss='categorical_crossentropy',\n",
        "              optimizer = Adam(lr=0.001),\n",
        "              metrics=['accuracy'])\n",
        "history = model.fit_generator(generator=train_set,\n",
        "                                steps_per_epoch=train_set.n//train_set.batch_size,\n",
        "                                epochs=epochs,\n",
        "                                validation_data = test_set,\n",
        "                                validation_steps = test_set.n//test_set.batch_size,\n",
        "                                callbacks=callbacks_list\n",
        "                                )"
      ],
      "metadata": {
        "id": "lBUEE4i9luHC",
        "outputId": "455b300d-b897-4c0c-f8f0-e9512d53eef7",
        "colab": {
          "base_uri": "https://localhost:8080/"
        }
      },
      "execution_count": 21,
      "outputs": [
        {
          "output_type": "stream",
          "name": "stderr",
          "text": [
            "/usr/local/lib/python3.7/dist-packages/keras/optimizer_v2/adam.py:105: UserWarning: The `lr` argument is deprecated, use `learning_rate` instead.\n",
            "  super(Adam, self).__init__(name, **kwargs)\n",
            "/usr/local/lib/python3.7/dist-packages/ipykernel_launcher.py:31: UserWarning: `Model.fit_generator` is deprecated and will be removed in a future version. Please use `Model.fit`, which supports generators.\n"
          ]
        },
        {
          "output_type": "stream",
          "name": "stdout",
          "text": [
            "Epoch 1/48\n",
            "225/225 [==============================] - ETA: 0s - loss: 1.7824 - accuracy: 0.3133WARNING:tensorflow:Can save best model only with val_acc available, skipping.\n",
            "225/225 [==============================] - 40s 127ms/step - loss: 1.7824 - accuracy: 0.3133 - val_loss: 1.6185 - val_accuracy: 0.4081 - lr: 0.0010\n",
            "Epoch 2/48\n",
            "225/225 [==============================] - ETA: 0s - loss: 1.4413 - accuracy: 0.4459WARNING:tensorflow:Can save best model only with val_acc available, skipping.\n",
            "225/225 [==============================] - 28s 123ms/step - loss: 1.4413 - accuracy: 0.4459 - val_loss: 1.4641 - val_accuracy: 0.4700 - lr: 0.0010\n",
            "Epoch 3/48\n",
            "225/225 [==============================] - ETA: 0s - loss: 1.2872 - accuracy: 0.5067WARNING:tensorflow:Can save best model only with val_acc available, skipping.\n",
            "225/225 [==============================] - 28s 123ms/step - loss: 1.2872 - accuracy: 0.5067 - val_loss: 1.2377 - val_accuracy: 0.5226 - lr: 0.0010\n",
            "Epoch 4/48\n",
            "225/225 [==============================] - ETA: 0s - loss: 1.1997 - accuracy: 0.5418WARNING:tensorflow:Can save best model only with val_acc available, skipping.\n",
            "225/225 [==============================] - 28s 123ms/step - loss: 1.1997 - accuracy: 0.5418 - val_loss: 1.2266 - val_accuracy: 0.5311 - lr: 0.0010\n",
            "Epoch 5/48\n",
            "225/225 [==============================] - ETA: 0s - loss: 1.1316 - accuracy: 0.5731WARNING:tensorflow:Can save best model only with val_acc available, skipping.\n",
            "225/225 [==============================] - 28s 123ms/step - loss: 1.1316 - accuracy: 0.5731 - val_loss: 1.4443 - val_accuracy: 0.4328 - lr: 0.0010\n",
            "Epoch 6/48\n",
            "225/225 [==============================] - ETA: 0s - loss: 1.0758 - accuracy: 0.5915WARNING:tensorflow:Can save best model only with val_acc available, skipping.\n",
            "225/225 [==============================] - 28s 123ms/step - loss: 1.0758 - accuracy: 0.5915 - val_loss: 1.1322 - val_accuracy: 0.5702 - lr: 0.0010\n",
            "Epoch 7/48\n",
            "225/225 [==============================] - ETA: 0s - loss: 1.0306 - accuracy: 0.6109WARNING:tensorflow:Can save best model only with val_acc available, skipping.\n",
            "225/225 [==============================] - 28s 123ms/step - loss: 1.0306 - accuracy: 0.6109 - val_loss: 1.0736 - val_accuracy: 0.5959 - lr: 0.0010\n",
            "Epoch 8/48\n",
            "225/225 [==============================] - ETA: 0s - loss: 0.9898 - accuracy: 0.6274WARNING:tensorflow:Can save best model only with val_acc available, skipping.\n",
            "225/225 [==============================] - 28s 123ms/step - loss: 0.9898 - accuracy: 0.6274 - val_loss: 1.0641 - val_accuracy: 0.6036 - lr: 0.0010\n",
            "Epoch 9/48\n",
            "225/225 [==============================] - ETA: 0s - loss: 0.9483 - accuracy: 0.6406WARNING:tensorflow:Can save best model only with val_acc available, skipping.\n",
            "225/225 [==============================] - 28s 123ms/step - loss: 0.9483 - accuracy: 0.6406 - val_loss: 1.0930 - val_accuracy: 0.5906 - lr: 0.0010\n",
            "Epoch 10/48\n",
            "225/225 [==============================] - ETA: 0s - loss: 0.9054 - accuracy: 0.6577WARNING:tensorflow:Can save best model only with val_acc available, skipping.\n",
            "225/225 [==============================] - 28s 123ms/step - loss: 0.9054 - accuracy: 0.6577 - val_loss: 1.0523 - val_accuracy: 0.6115 - lr: 0.0010\n",
            "Epoch 11/48\n",
            "225/225 [==============================] - ETA: 0s - loss: 0.8571 - accuracy: 0.6781WARNING:tensorflow:Can save best model only with val_acc available, skipping.\n",
            "225/225 [==============================] - 28s 123ms/step - loss: 0.8571 - accuracy: 0.6781 - val_loss: 1.0909 - val_accuracy: 0.5991 - lr: 0.0010\n",
            "Epoch 12/48\n",
            "225/225 [==============================] - ETA: 0s - loss: 0.8233 - accuracy: 0.6905WARNING:tensorflow:Can save best model only with val_acc available, skipping.\n",
            "225/225 [==============================] - 28s 123ms/step - loss: 0.8233 - accuracy: 0.6905 - val_loss: 1.0924 - val_accuracy: 0.6028 - lr: 0.0010\n",
            "Epoch 13/48\n",
            "225/225 [==============================] - ETA: 0s - loss: 0.7778 - accuracy: 0.7089Restoring model weights from the end of the best epoch: 10.\n",
            "WARNING:tensorflow:Can save best model only with val_acc available, skipping.\n",
            "\n",
            "Epoch 00013: ReduceLROnPlateau reducing learning rate to 0.00020000000949949026.\n",
            "225/225 [==============================] - 28s 123ms/step - loss: 0.7778 - accuracy: 0.7089 - val_loss: 1.2918 - val_accuracy: 0.5413 - lr: 0.0010\n",
            "Epoch 00013: early stopping\n"
          ]
        }
      ]
    },
    {
      "cell_type": "code",
      "source": [
        ""
      ],
      "metadata": {
        "id": "I0fC8i1D41qu"
      },
      "execution_count": null,
      "outputs": []
    }
  ]
}