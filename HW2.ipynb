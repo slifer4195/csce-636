{
  "nbformat": 4,
  "nbformat_minor": 0,
  "metadata": {
    "colab": {
      "name": "HW2.ipynb",
      "provenance": [],
      "authorship_tag": "ABX9TyOkRpj+I07XPZj4cNtJDU7w",
      "include_colab_link": true
    },
    "kernelspec": {
      "name": "python3",
      "display_name": "Python 3"
    },
    "language_info": {
      "name": "python"
    },
    "accelerator": "GPU"
  },
  "cells": [
    {
      "cell_type": "markdown",
      "metadata": {
        "id": "view-in-github",
        "colab_type": "text"
      },
      "source": [
        "<a href=\"https://colab.research.google.com/github/slifer4195/csce-636/blob/main/HW2.ipynb\" target=\"_parent\"><img src=\"https://colab.research.google.com/assets/colab-badge.svg\" alt=\"Open In Colab\"/></a>"
      ]
    },
    {
      "cell_type": "markdown",
      "source": [
        "Load the dataset"
      ],
      "metadata": {
        "id": "G8e7Dv1vwZNh"
      }
    },
    {
      "cell_type": "code",
      "execution_count": 1,
      "metadata": {
        "colab": {
          "base_uri": "https://localhost:8080/"
        },
        "id": "9t4yJTTPwSZU",
        "outputId": "705620cf-1a3d-4b48-8b7a-c3067b1687da"
      },
      "outputs": [
        {
          "output_type": "stream",
          "name": "stdout",
          "text": [
            "Downloading data from https://storage.googleapis.com/tensorflow/tf-keras-datasets/imdb.npz\n",
            "17465344/17464789 [==============================] - 0s 0us/step\n",
            "17473536/17464789 [==============================] - 0s 0us/step\n"
          ]
        }
      ],
      "source": [
        "from keras.datasets import imdb\n",
        "(train_data, train_labels), (test_data, test_labels) = imdb.load_data(num_words = 10000)\n",
        "#train_data and test_data : 25000 reviews with encoding sequence of words in [0, 9999] 2D\n",
        "#train_labels and test_labels: 0->negative 1->postive 25000 reviews 1D"
      ]
    },
    {
      "cell_type": "markdown",
      "source": [
        "Prepare the dataset\n",
        "one hot encode list: change to 0s and 1s\n",
        "Bag of words: turn [3,5] to 10000 dimensional vector that are all 0s except for indices 3 and 5 with 1s. Order is lost"
      ],
      "metadata": {
        "id": "ovIxsqrN0FRw"
      }
    },
    {
      "cell_type": "code",
      "source": [
        "import numpy as np\n",
        "def vectorize_sequences(sequences,dimension=10000):\n",
        "  results = np.zeros((len(sequences),dimension))\n",
        "  for i, sequence in enumerate(sequences):\n",
        "    results[i, sequence] = 1\n",
        "  return results\n",
        "\n",
        "x_train = vectorize_sequences(train_data)  \n",
        "x_test = vectorize_sequences(test_data)\n",
        "#2 dimensional tensor (array) 25000 * 10000\n",
        "#Dimension 0: number of samples\n",
        "#Dimension 1: size of vocabulary\n",
        "\n",
        "y_train = np.asarray(train_labels).astype('float32')\n",
        "y_test = np.asarray(test_labels).astype('float32')\n",
        "#1 dimensional tensor (array) (25000,)\n",
        "#Dimension 0: number of samples"
      ],
      "metadata": {
        "id": "LXi3CoIKxrCV"
      },
      "execution_count": 10,
      "outputs": []
    },
    {
      "cell_type": "markdown",
      "source": [
        "Build Neural Network"
      ],
      "metadata": {
        "id": "5IpDgkhj89UA"
      }
    },
    {
      "cell_type": "code",
      "source": [
        "from keras import models\n",
        "from keras import layers\n",
        "\n",
        "model = models.Sequential()\n",
        "model.add(layers.Dense(16, activation='relu', input_shape = (10000,)))\n",
        "model.add(layers.Dense(16, activation='relu'))\n",
        "model.add(layers.Dense(1, activation='sigmoid'))"
      ],
      "metadata": {
        "id": "4Qa651Cp87JZ"
      },
      "execution_count": 12,
      "outputs": []
    },
    {
      "cell_type": "markdown",
      "source": [
        "compile choose loss function, optimizer and target metrics"
      ],
      "metadata": {
        "id": "v8GoNwh5_bBE"
      }
    },
    {
      "cell_type": "code",
      "source": [
        "model.compile(optimizer='rmsprop', loss='binary_crossentropy',metrics=['accuracy'])"
      ],
      "metadata": {
        "id": "O7fh8kTh_aHV"
      },
      "execution_count": 15,
      "outputs": []
    },
    {
      "cell_type": "markdown",
      "source": [
        "Partition training set into \"training set\" and \"validation set\""
      ],
      "metadata": {
        "id": "jbtT6vj8F-xP"
      }
    },
    {
      "cell_type": "code",
      "source": [
        "x_val = x_train[:10000]\n",
        "partial_x_train = x_train[10000:]\n",
        "y_val = y_train[:10000]\n",
        "partial_y_train = y_train[10000:]"
      ],
      "metadata": {
        "id": "sYo0RjulGVe-"
      },
      "execution_count": 16,
      "outputs": []
    },
    {
      "cell_type": "markdown",
      "source": [
        "Train the neural network"
      ],
      "metadata": {
        "id": "vlJTxCDcGtJG"
      }
    },
    {
      "cell_type": "code",
      "source": [
        "history = model.fit(partial_x_train, partial_y_train, epochs=20, batch_size=512, validation_data=(x_val, y_val))"
      ],
      "metadata": {
        "colab": {
          "base_uri": "https://localhost:8080/"
        },
        "id": "3RJWrh-hHBia",
        "outputId": "d8bf5b57-3cd6-49ae-c1cb-6f02a4d3faa0"
      },
      "execution_count": 17,
      "outputs": [
        {
          "output_type": "stream",
          "name": "stdout",
          "text": [
            "Epoch 1/20\n",
            "30/30 [==============================] - 4s 47ms/step - loss: 0.5116 - accuracy: 0.7824 - val_loss: 0.3860 - val_accuracy: 0.8697\n",
            "Epoch 2/20\n",
            "30/30 [==============================] - 1s 21ms/step - loss: 0.3030 - accuracy: 0.9051 - val_loss: 0.3227 - val_accuracy: 0.8713\n",
            "Epoch 3/20\n",
            "30/30 [==============================] - 1s 23ms/step - loss: 0.2252 - accuracy: 0.9283 - val_loss: 0.2778 - val_accuracy: 0.8908\n",
            "Epoch 4/20\n",
            "30/30 [==============================] - 1s 22ms/step - loss: 0.1748 - accuracy: 0.9433 - val_loss: 0.2895 - val_accuracy: 0.8859\n",
            "Epoch 5/20\n",
            "30/30 [==============================] - 1s 23ms/step - loss: 0.1470 - accuracy: 0.9523 - val_loss: 0.2782 - val_accuracy: 0.8890\n",
            "Epoch 6/20\n",
            "30/30 [==============================] - 1s 23ms/step - loss: 0.1180 - accuracy: 0.9645 - val_loss: 0.2945 - val_accuracy: 0.8843\n",
            "Epoch 7/20\n",
            "30/30 [==============================] - 1s 22ms/step - loss: 0.1008 - accuracy: 0.9707 - val_loss: 0.3143 - val_accuracy: 0.8846\n",
            "Epoch 8/20\n",
            "30/30 [==============================] - 1s 22ms/step - loss: 0.0806 - accuracy: 0.9781 - val_loss: 0.3228 - val_accuracy: 0.8821\n",
            "Epoch 9/20\n",
            "30/30 [==============================] - 1s 23ms/step - loss: 0.0704 - accuracy: 0.9805 - val_loss: 0.3466 - val_accuracy: 0.8819\n",
            "Epoch 10/20\n",
            "30/30 [==============================] - 1s 23ms/step - loss: 0.0548 - accuracy: 0.9859 - val_loss: 0.3860 - val_accuracy: 0.8781\n",
            "Epoch 11/20\n",
            "30/30 [==============================] - 1s 22ms/step - loss: 0.0440 - accuracy: 0.9903 - val_loss: 0.4019 - val_accuracy: 0.8733\n",
            "Epoch 12/20\n",
            "30/30 [==============================] - 1s 23ms/step - loss: 0.0359 - accuracy: 0.9930 - val_loss: 0.4684 - val_accuracy: 0.8677\n",
            "Epoch 13/20\n",
            "30/30 [==============================] - 1s 21ms/step - loss: 0.0285 - accuracy: 0.9947 - val_loss: 0.4547 - val_accuracy: 0.8765\n",
            "Epoch 14/20\n",
            "30/30 [==============================] - 1s 22ms/step - loss: 0.0218 - accuracy: 0.9964 - val_loss: 0.4884 - val_accuracy: 0.8681\n",
            "Epoch 15/20\n",
            "30/30 [==============================] - 1s 22ms/step - loss: 0.0179 - accuracy: 0.9977 - val_loss: 0.5322 - val_accuracy: 0.8694\n",
            "Epoch 16/20\n",
            "30/30 [==============================] - 1s 26ms/step - loss: 0.0106 - accuracy: 0.9995 - val_loss: 0.5523 - val_accuracy: 0.8701\n",
            "Epoch 17/20\n",
            "30/30 [==============================] - 1s 22ms/step - loss: 0.0136 - accuracy: 0.9977 - val_loss: 0.5825 - val_accuracy: 0.8701\n",
            "Epoch 18/20\n",
            "30/30 [==============================] - 1s 23ms/step - loss: 0.0058 - accuracy: 0.9998 - val_loss: 0.6116 - val_accuracy: 0.8689\n",
            "Epoch 19/20\n",
            "30/30 [==============================] - 1s 23ms/step - loss: 0.0074 - accuracy: 0.9993 - val_loss: 0.6484 - val_accuracy: 0.8685\n",
            "Epoch 20/20\n",
            "30/30 [==============================] - 1s 22ms/step - loss: 0.0039 - accuracy: 0.9998 - val_loss: 0.8143 - val_accuracy: 0.8481\n"
          ]
        }
      ]
    },
    {
      "cell_type": "markdown",
      "source": [
        "train and test"
      ],
      "metadata": {
        "id": "8Hj2nAZqI4Kp"
      }
    },
    {
      "cell_type": "code",
      "source": [
        "model.fit(x_train, y_train, epochs=4, batch_size= 512)\n",
        "results = model.evaluate(x_test, y_test)\n",
        "print(\"Result Accuracy (loss, accuracy): \", results)\n"
      ],
      "metadata": {
        "colab": {
          "base_uri": "https://localhost:8080/"
        },
        "id": "BDWFNMIxH9KN",
        "outputId": "d94d59e4-bea4-404c-b4e0-dffee39671bb"
      },
      "execution_count": 18,
      "outputs": [
        {
          "output_type": "stream",
          "name": "stdout",
          "text": [
            "Epoch 1/4\n",
            "49/49 [==============================] - 1s 14ms/step - loss: 0.2223 - accuracy: 0.9456\n",
            "Epoch 2/4\n",
            "49/49 [==============================] - 1s 15ms/step - loss: 0.1296 - accuracy: 0.9620\n",
            "Epoch 3/4\n",
            "49/49 [==============================] - 1s 15ms/step - loss: 0.0974 - accuracy: 0.9713\n",
            "Epoch 4/4\n",
            "49/49 [==============================] - 1s 14ms/step - loss: 0.0754 - accuracy: 0.9775\n",
            "782/782 [==============================] - 3s 3ms/step - loss: 0.4844 - accuracy: 0.8601\n",
            "Result Accuracy (loss, accuracy):  [0.48440390825271606, 0.8600800037384033]\n"
          ]
        }
      ]
    }
  ]
}